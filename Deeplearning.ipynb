{
 "cells": [
  {
   "cell_type": "code",
   "execution_count": 2,
   "id": "6e33ab04",
   "metadata": {
    "ExecuteTime": {
     "end_time": "2024-03-31T16:39:48.105752Z",
     "start_time": "2024-03-31T16:39:48.094989Z"
    }
   },
   "outputs": [],
   "source": [
    "import os\n",
    "import random\n",
    "import numpy as np\n",
    "from keras.preprocessing.image import ImageDataGenerator\n",
    "\n",
    "class InfiniteDataLoader:\n",
    "    def __init__(self, data_dir, batch_size, target_size=(224, 224), shuffle=True):\n",
    "        self.data_dir = data_dir\n",
    "        self.batch_size = batch_size\n",
    "        self.target_size = target_size\n",
    "        self.shuffle = shuffle\n",
    "        self.classes = sorted(os.listdir(data_dir))\n",
    "        self.num_classes = len(self.classes)\n",
    "        self.image_data_generator = ImageDataGenerator()\n",
    "        self.image_generator = self.image_data_generator.flow_from_directory(\n",
    "            data_dir,\n",
    "            target_size=target_size,\n",
    "            batch_size=batch_size,\n",
    "            class_mode='categorical',\n",
    "            shuffle=shuffle\n",
    "        )\n",
    "\n",
    "    def __iter__(self):\n",
    "        return self\n",
    "\n",
    "    def __next__(self):\n",
    "        images, labels = next(self.image_generator)\n",
    "        return images, labels\n"
   ]
  },
  {
   "cell_type": "code",
   "execution_count": 6,
   "id": "0dda73de",
   "metadata": {
    "ExecuteTime": {
     "end_time": "2024-03-31T16:41:11.431346Z",
     "start_time": "2024-03-31T16:41:08.053466Z"
    }
   },
   "outputs": [
    {
     "name": "stdout",
     "output_type": "stream",
     "text": [
      "Found 1034 images belonging to 1 classes.\n",
      "Batch 1:\n",
      "Batch 2:\n",
      "Batch 3:\n",
      "Batch 4:\n",
      "Batch 5:\n",
      "Batch 6:\n",
      "Batch 7:\n",
      "Batch 8:\n",
      "Batch 9:\n",
      "Batch 10:\n"
     ]
    }
   ],
   "source": [
    "# Example usage:\n",
    "data_dir = 'train/'\n",
    "batch_size = 32\n",
    "\n",
    "data_loader = InfiniteDataLoader(data_dir, batch_size)\n",
    "\n",
    "# Iterate and get batches of images infinitely\n",
    "for i in range(10):  # example: iterate for 10 batches\n",
    "    images, labels = next(data_loader)\n",
    "    print(f\"Batch {i+1}:\")\n",
    "#     print(images.shape, labels)"
   ]
  },
  {
   "cell_type": "code",
   "execution_count": null,
   "id": "a87464c7",
   "metadata": {},
   "outputs": [],
   "source": []
  }
 ],
 "metadata": {
  "kernelspec": {
   "display_name": "Python 3 (ipykernel)",
   "language": "python",
   "name": "python3"
  },
  "language_info": {
   "codemirror_mode": {
    "name": "ipython",
    "version": 3
   },
   "file_extension": ".py",
   "mimetype": "text/x-python",
   "name": "python",
   "nbconvert_exporter": "python",
   "pygments_lexer": "ipython3",
   "version": "3.11.3"
  },
  "toc": {
   "base_numbering": 1,
   "nav_menu": {},
   "number_sections": true,
   "sideBar": true,
   "skip_h1_title": false,
   "title_cell": "Table of Contents",
   "title_sidebar": "Contents",
   "toc_cell": false,
   "toc_position": {},
   "toc_section_display": true,
   "toc_window_display": false
  },
  "varInspector": {
   "cols": {
    "lenName": 16,
    "lenType": 16,
    "lenVar": 40
   },
   "kernels_config": {
    "python": {
     "delete_cmd_postfix": "",
     "delete_cmd_prefix": "del ",
     "library": "var_list.py",
     "varRefreshCmd": "print(var_dic_list())"
    },
    "r": {
     "delete_cmd_postfix": ") ",
     "delete_cmd_prefix": "rm(",
     "library": "var_list.r",
     "varRefreshCmd": "cat(var_dic_list()) "
    }
   },
   "types_to_exclude": [
    "module",
    "function",
    "builtin_function_or_method",
    "instance",
    "_Feature"
   ],
   "window_display": false
  }
 },
 "nbformat": 4,
 "nbformat_minor": 5
}
